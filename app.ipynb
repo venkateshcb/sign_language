{
 "cells": [
  {
   "cell_type": "code",
   "execution_count": 1,
   "metadata": {},
   "outputs": [],
   "source": [
    "import cv2\n",
    "import matplotlib.pyplot as plt\n",
    "import numpy as np\n",
    "import tensorflow as tf"
   ]
  },
  {
   "cell_type": "code",
   "execution_count": 2,
   "metadata": {},
   "outputs": [],
   "source": [
    "model = tf.keras.models.load_model(\"model.h5\")\n",
    "dict = {0: 'A', 1: 'B', 2: 'C', 3: 'D', 4: 'E', 5: 'F', 6: 'G', 7: 'H', 8: 'I', 9: 'J', 10: 'K', 11: 'L', 12: 'M', 13: 'N', 14: 'O', 15: 'P', 16: 'Q', 17: 'R', 18: 'S', 19: 'T', 20: 'U', 21: 'V', 22: 'W', 23: 'X', 24: 'Y', 25: 'Z'}"
   ]
  },
  {
   "cell_type": "markdown",
   "metadata": {},
   "source": [
    "# FOR LIVE CAMERA"
   ]
  },
  {
   "cell_type": "code",
   "execution_count": null,
   "metadata": {},
   "outputs": [],
   "source": [
    "cap = cv2.VideoCapture(0)\n",
    "while True:\n",
    "    ret, frame = cap.read()\n",
    "    crop = frame[94:350,94:350]\n",
    "    crop = cv2.cvtColor(crop,cv2.COLOR_BGR2GRAY)\n",
    "    pred = model.predict(crop.reshape(1,256,256,1))\n",
    "    pred = [np.argmax(i) for i in pred]\n",
    "    cv2.putText(frame,f\"{dict[pred[0]]}\",(60,90), cv2.FONT_HERSHEY_COMPLEX, 1, (255,0,0), 2, cv2.LINE_AA)\n",
    "    cv2.rectangle(frame,(90,90),(350,350),(255,0,0),5)\n",
    "    cv2.imshow(\"Frame\",frame)\n",
    "    cv2.imshow(\"Crop\",crop)\n",
    "    if cv2.waitKey(1) == ord(\"q\"):\n",
    "        break\n",
    "cap.release()\n",
    "cv2.destroyAllWindows()"
   ]
  },
  {
   "cell_type": "markdown",
   "metadata": {},
   "source": [
    "# FOR VIDEO"
   ]
  },
  {
   "cell_type": "code",
   "execution_count": null,
   "metadata": {},
   "outputs": [],
   "source": [
    "cap = cv2.VideoCapture(\"sign_video.mp4\")\n",
    "\n",
    "while True:\n",
    "    c = np.full((500, 500, 3),255, dtype = np.uint8)\n",
    "    ret, frame = cap.read()\n",
    "    frame = cv2.resize(frame,(256,256))\n",
    "    c = cv2.resize(c,(256,256))\n",
    "    frame = cv2.cvtColor(frame,cv2.COLOR_BGR2GRAY)\n",
    "    pred = model.predict(frame.reshape(1,256,256,1))\n",
    "    pred = [np.argmax(i) for i in pred]\n",
    "    cv2.putText(c,f\"{dict[pred[0]]}\",(60,90), cv2.FONT_HERSHEY_COMPLEX, 1, (255,0,0), 2, cv2.LINE_AA)\n",
    "    cv2.imshow(\"Frame\",frame)\n",
    "    cv2.imshow(\"Symbol\",c)\n",
    "    if cv2.waitKey(1) == ord(\"q\"):\n",
    "        break\n",
    "cap.release()\n",
    "cv2.destroyAllWindows()"
   ]
  },
  {
   "cell_type": "code",
   "execution_count": null,
   "metadata": {},
   "outputs": [],
   "source": []
  }
 ],
 "metadata": {
  "kernelspec": {
   "display_name": "Python 3.10.5 64-bit",
   "language": "python",
   "name": "python3"
  },
  "language_info": {
   "codemirror_mode": {
    "name": "ipython",
    "version": 3
   },
   "file_extension": ".py",
   "mimetype": "text/x-python",
   "name": "python",
   "nbconvert_exporter": "python",
   "pygments_lexer": "ipython3",
   "version": "3.10.5"
  },
  "orig_nbformat": 4,
  "vscode": {
   "interpreter": {
    "hash": "643ec567374a7fd6f148dd25ff080c7fd413e7160e31b8d15ac140893a629039"
   }
  }
 },
 "nbformat": 4,
 "nbformat_minor": 2
}
